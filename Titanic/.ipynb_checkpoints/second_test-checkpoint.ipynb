{
 "cells": [
  {
   "cell_type": "code",
   "execution_count": null,
   "metadata": {},
   "outputs": [],
   "source": [
    "# Load in our libraries\n",
    "import pandas as pd\n",
    "import numpy as np\n",
    "import re\n",
    "import sklearn\n",
    "\n",
    "import xgboost as xgb\n",
    "import seaborn as sns\n",
    "\n",
    "import matplotlib.pyplot as plt\n",
    "%matplotlib inline\n",
    "\n",
    "import plotly.offline as py\n",
    "py.init_notebook_mode(connected=True)\n",
    "import plotly.graph_objs as go\n",
    "import plotly.tools as tls\n",
    "\n",
    "import warnings\n",
    "warnings.filterwarnings('ignore')\n",
    "\n",
    "# Going to use these 5 base models for the stacking\n",
    "from sklearn.ensemble import (RandomForestClassifier, AdaBoostClassifier, \n",
    "                              GradientBoostingClassifier, ExtraTreesClassifier)\n",
    "from sklearn.svm import SVC\n",
    "\n",
    "from keras.utils import to_categorical\n",
    "from keras import models\n",
    "from keras import layers"
   ]
  },
  {
   "cell_type": "code",
   "execution_count": null,
   "metadata": {},
   "outputs": [],
   "source": [
    "train = pd.read_csv('input/train.csv')\n",
    "test = pd.read_csv('input/test.csv')"
   ]
  },
  {
   "cell_type": "code",
   "execution_count": null,
   "metadata": {},
   "outputs": [],
   "source": [
    "train['Has_Cabin'] = train[\"Cabin\"].apply(lambda x: 0 if type(x) == float else 1)\n",
    "test['Has_Cabin'] = test[\"Cabin\"].apply(lambda x: 0 if type(x) == float else 1)\n",
    "train.head(3)"
   ]
  },
  {
   "cell_type": "code",
   "execution_count": null,
   "metadata": {},
   "outputs": [],
   "source": [
    "train['SexNum'] = train[\"Sex\"].map(lambda x: {'male':1,'female':2}.get(x, x))\n",
    "test['SexNum'] = train[\"Sex\"].map(lambda x: {'male':1,'female':2}.get(x, x))\n",
    "train.head(3)"
   ]
  },
  {
   "cell_type": "code",
   "execution_count": null,
   "metadata": {},
   "outputs": [],
   "source": [
    "train['EmbarkedNum'] = train['Embarked'].map(lambda x: {'S':1,'C':2,'Q':3}.get(x, x))\n",
    "test['EmbarkedNum'] = test['Embarked'].map(lambda x: {'S':1,'C':2,'Q':3}.get(x, x))\n",
    "train.head(3)"
   ]
  },
  {
   "cell_type": "code",
   "execution_count": null,
   "metadata": {},
   "outputs": [],
   "source": [
    "train['Title'] = train['Name'].str.extract(' ([A-Za-z]+)\\.',expand=False)\n",
    "test['Title'] = test['Name'].str.extract(' ([A-Za-z]+)\\.',expand=False)\n",
    "train.head(5)"
   ]
  },
  {
   "cell_type": "code",
   "execution_count": null,
   "metadata": {},
   "outputs": [],
   "source": [
    "train['Title_num'] = train[\"Title\"].apply(lambda x: {'Miss':0,'Mrs':0,'Mr':1,'Master':1}.get(x,2))\n",
    "test['Title_num'] = test[\"Title\"].apply(lambda x: {'Miss':0,'Mrs':0,'Mr':1,'Master':1}.get(x,2))\n",
    "train.head(10)"
   ]
  },
  {
   "cell_type": "code",
   "execution_count": null,
   "metadata": {},
   "outputs": [],
   "source": [
    "train.describe()\n",
    "train.info()"
   ]
  },
  {
   "cell_type": "code",
   "execution_count": null,
   "metadata": {},
   "outputs": [],
   "source": [
    "train['Age'].fillna(30,inplace=True)\n",
    "test['Age'].fillna(30,inplace=True)\n",
    "train['EmbarkedNum'].fillna(1,inplace=True)\n",
    "test['EmbarkedNum'].fillna(1,inplace=True)\n",
    "test['Fare'].fillna(14,inplace=True)\n",
    "train.head(3)"
   ]
  },
  {
   "cell_type": "code",
   "execution_count": null,
   "metadata": {},
   "outputs": [],
   "source": [
    "train['Pclass1'] = train[\"Pclass\"].apply(lambda x: x/3)\n",
    "train['Age1'] = train[\"Age\"].apply(lambda x: x/80)\n",
    "train['Pclass1'] = train[\"Parch\"].apply(lambda x: x/3)\n",
    "train['Fare1'] = train[\"Fare\"].apply(lambda x: x/513)\n",
    "train['SexNum1'] = train[\"SexNum\"].apply(lambda x: x/2)\n",
    "train['EmbarkedNum1'] = train[\"EmbarkedNum\"].apply(lambda x: x/3)\n",
    "train['Title_num1'] = train[\"Title_num\"].apply(lambda x: x/2)\n",
    "train['SibSp1'] = train[\"SibSp\"].apply(lambda x: x/8)\n",
    "train['Parch1'] = train[\"Parch\"].apply(lambda x: x/6)\n",
    "train1_input = train.drop(['Pclass','Age','Parch','Fare','SexNum','EmbarkedNum','Title_num','SibSp'], axis = 1)\n",
    "train.head(10)\n",
    "\n",
    "#Pclass\tAge\tSibSp\tParch\tFare\tEmbarkedNum\tSexNum\tHas_Cabin\tTitle_num\n",
    "\n",
    "test['Pclass1'] = test[\"Pclass\"].apply(lambda x: x/3)\n",
    "test['Age1'] = test[\"Age\"].apply(lambda x: x/80)\n",
    "test['Pclass1'] = test[\"Parch\"].apply(lambda x: x/3)\n",
    "test['Fare1'] = test[\"Fare\"].apply(lambda x: x/513)\n",
    "test['SexNum1'] = test[\"SexNum\"].apply(lambda x: x/2)\n",
    "test['EmbarkedNum1'] = test[\"EmbarkedNum\"].apply(lambda x: x/3)\n",
    "test['Title_num1'] = test[\"Title_num\"].apply(lambda x: x/2)\n",
    "test['SibSp1'] = test[\"SibSp\"].apply(lambda x: x/8)\n",
    "test['Parch1'] = test[\"Parch\"].apply(lambda x: x/6)\n",
    "test1_input = test.drop(['Pclass','Age','Parch','Fare','SexNum','EmbarkedNum','Title_num','SibSp'], axis = 1)\n",
    "test.head(10)"
   ]
  },
  {
   "cell_type": "code",
   "execution_count": null,
   "metadata": {},
   "outputs": [],
   "source": [
    "train_input = train1_input.drop(['PassengerId','Name','Ticket','Cabin','Survived','Sex','Title','Embarked'], axis = 1)\n",
    "train_input.head()\n",
    "#Pclass\tAge\tSibSp\tParch\tFare\tEmbarkedNum\tSexNum\tHas_Cabin\tTitle_num"
   ]
  },
  {
   "cell_type": "code",
   "execution_count": null,
   "metadata": {},
   "outputs": [],
   "source": [
    "'''#去重\n",
    "train_output =train.drop_duplicates(['Survived'])\n",
    "train_output.head()'''\n",
    "train_output =train.loc[:,['Survived']]\n",
    "train_output.head(5)"
   ]
  },
  {
   "cell_type": "code",
   "execution_count": null,
   "metadata": {},
   "outputs": [],
   "source": [
    "#Pclass\tAge\tSibSp\tParch\tFare\tEmbarked\tHas_Cabin\tSexNum\tEmbarkedNum\tTitle_num\n",
    "test_input = test1_input.drop(['PassengerId','Name','Ticket','Cabin','Sex','Title','Embarked'], axis = 1)\n",
    "test_input.head()"
   ]
  },
  {
   "cell_type": "code",
   "execution_count": null,
   "metadata": {},
   "outputs": [],
   "source": [
    "nptrain_input = np.array(train_input)\n",
    "nptest_input = np.array(test_input)\n",
    "mptrain_output = np.array(train_output)"
   ]
  },
  {
   "cell_type": "code",
   "execution_count": null,
   "metadata": {},
   "outputs": [],
   "source": [
    "# 定义网络架构\n",
    "network = models.Sequential()\n",
    "network.add(layers.Dense(6,activation = 'softmax',input_shape=(9,)))\n",
    "network.add(layers.Dense(6,activation = 'softmax'))\n",
    "network.add(layers.Dense(2,activation = 'softmax'))\n",
    "# 定义网络优化：优化算法、损失函数以及评价指标\n",
    "network.compile(optimizer='rmsprop',loss=\"categorical_crossentropy\",metrics=['accuracy'])"
   ]
  },
  {
   "cell_type": "code",
   "execution_count": null,
   "metadata": {},
   "outputs": [],
   "source": [
    "train_labels = to_categorical(mptrain_output)\n",
    "#print(train_labels)\n",
    "#print(train_labels.shape)"
   ]
  },
  {
   "cell_type": "code",
   "execution_count": null,
   "metadata": {},
   "outputs": [],
   "source": [
    "# 模型训练\n",
    "network.fit(nptrain_input,train_labels,epochs=10000,batch_size=32)"
   ]
  },
  {
   "cell_type": "code",
   "execution_count": null,
   "metadata": {},
   "outputs": [],
   "source": [
    "result1 = network.predict(nptest_input)\n",
    "print(result1)"
   ]
  },
  {
   "cell_type": "code",
   "execution_count": null,
   "metadata": {},
   "outputs": [],
   "source": [
    "result = [[i+892,0] for i in range(0,418)]\n",
    "j = 0\n",
    "for i in range(0,len(result1)):\n",
    "    if result1[i][0] > result1[i][1]:\n",
    "        result[i][1] = 1\n",
    "print(j)"
   ]
  },
  {
   "cell_type": "code",
   "execution_count": null,
   "metadata": {},
   "outputs": [],
   "source": [
    "result_1 = pd.DataFrame(result)\n",
    "result_1.columns = ['PassengerId','Survived']\n",
    "result_1.to_csv('network10_result.csv',index=False)"
   ]
  }
 ],
 "metadata": {
  "kernelspec": {
   "display_name": "Python 3",
   "language": "python",
   "name": "python3"
  },
  "language_info": {
   "codemirror_mode": {
    "name": "ipython",
    "version": 3
   },
   "file_extension": ".py",
   "mimetype": "text/x-python",
   "name": "python",
   "nbconvert_exporter": "python",
   "pygments_lexer": "ipython3",
   "version": "3.6.6"
  }
 },
 "nbformat": 4,
 "nbformat_minor": 2
}
